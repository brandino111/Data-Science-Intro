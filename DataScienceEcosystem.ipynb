{
 "cells": [
  {
   "cell_type": "markdown",
   "id": "f82eee79",
   "metadata": {},
   "source": [
    "# Data Science Tools and Ecosystem"
   ]
  },
  {
   "cell_type": "markdown",
   "id": "5e3c3839",
   "metadata": {},
   "source": [
    " In this notebook, Data Science Tools and Ecosystem are summarized."
   ]
  },
  {
   "cell_type": "markdown",
   "id": "b308d368",
   "metadata": {},
   "source": [
    "**Objectives:**\n",
    "* List popular languages for Data Science\n",
    "* List Commonly used libraries for Data Science\n",
    "* List development environment open source tools used in Data Science\n",
    "\n"
   ]
  },
  {
   "cell_type": "markdown",
   "id": "7a12900f",
   "metadata": {},
   "source": [
    " Some of the popular languages that Data Scientists use are:\n",
    "1. Python\n",
    "2. R\n",
    "3. SQL\n",
    "4. Java"
   ]
  },
  {
   "cell_type": "markdown",
   "id": "899650af",
   "metadata": {},
   "source": [
    "Some of the commonly used libraries used by Data Scientists include:"
   ]
  },
  {
   "cell_type": "markdown",
   "id": "b5de5c48",
   "metadata": {},
   "source": [
    "1. NumPy\n",
    "2. Pandas\n",
    "3. TensorFlow\n",
    "4. PlotLy"
   ]
  },
  {
   "cell_type": "markdown",
   "id": "3b02ef05",
   "metadata": {},
   "source": [
    "| Data Science Tools |\n",
    "|--------------------|\n",
    "| Jupyter Notebooks|\n",
    "| Google Colaboratory|\n",
    "| Visual Studio Code|"
   ]
  },
  {
   "cell_type": "markdown",
   "id": "fb729a36",
   "metadata": {},
   "source": [
    "### Below are a few examples of evaluating arithmetic expressions in Python"
   ]
  },
  {
   "cell_type": "code",
   "execution_count": 9,
   "id": "fb8db360",
   "metadata": {},
   "outputs": [
    {
     "name": "stdout",
     "output_type": "stream",
     "text": [
      "(3*4)+5=\n",
      "17\n"
     ]
    }
   ],
   "source": [
    "#This a simple arithmetic expression to mutiply then add integers\n",
    "print(\"(3*4)+5=\")\n",
    "print(3*4+5)"
   ]
  },
  {
   "cell_type": "code",
   "execution_count": 12,
   "id": "10e201b4",
   "metadata": {},
   "outputs": [
    {
     "name": "stdout",
     "output_type": "stream",
     "text": [
      "200 / 60 =\n",
      "3.3333333333333335\n"
     ]
    }
   ],
   "source": [
    "#This is will convert 200 minutes into hours by dividing 60\n",
    "print(\"200 / 60 =\")\n",
    "print(200/60)"
   ]
  },
  {
   "cell_type": "markdown",
   "id": "a21b0a0c",
   "metadata": {},
   "source": [
    "## Author"
   ]
  },
  {
   "cell_type": "markdown",
   "id": "8eb8d195",
   "metadata": {},
   "source": [
    "Brandon Chow"
   ]
  }
 ],
 "metadata": {
  "kernelspec": {
   "display_name": "Python 3 (ipykernel)",
   "language": "python",
   "name": "python3"
  },
  "language_info": {
   "codemirror_mode": {
    "name": "ipython",
    "version": 3
   },
   "file_extension": ".py",
   "mimetype": "text/x-python",
   "name": "python",
   "nbconvert_exporter": "python",
   "pygments_lexer": "ipython3",
   "version": "3.10.9"
  }
 },
 "nbformat": 4,
 "nbformat_minor": 5
}
